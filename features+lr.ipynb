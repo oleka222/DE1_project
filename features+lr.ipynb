{
 "cells": [
  {
   "cell_type": "code",
   "execution_count": 1,
   "id": "da95a9fc-bb40-44fd-b92d-0d951e9c06a8",
   "metadata": {},
   "outputs": [],
   "source": [
    "# Imports\n",
    "\n",
    "from pyspark.sql import SparkSession\n",
    "from pyspark.sql.functions import UserDefinedFunction as UDF\n",
    "from pyspark.sql.functions import size, col\n",
    "from pyspark.sql.types import ArrayType, StringType, IntegerType"
   ]
  },
  {
   "cell_type": "code",
   "execution_count": 2,
   "id": "a5308fb7-8979-40ce-af76-a174f15dafd6",
   "metadata": {},
   "outputs": [
    {
     "name": "stderr",
     "output_type": "stream",
     "text": [
      "Using Spark's default log4j profile: org/apache/spark/log4j-defaults.properties\n",
      "Setting default log level to \"WARN\".\n",
      "To adjust logging level use sc.setLogLevel(newLevel). For SparkR, use setLogLevel(newLevel).\n",
      "22/03/16 15:02:38 WARN NativeCodeLoader: Unable to load native-hadoop library for your platform... using builtin-java classes where applicable\n",
      "22/03/16 15:02:40 WARN ExecutorAllocationManager: Dynamic allocation without a shuffle service is an experimental feature.\n"
     ]
    }
   ],
   "source": [
    "# Start session\n",
    "\n",
    "ss = SparkSession\\\n",
    "        .builder\\\n",
    "        .master(\"spark://192.168.2.61:7077\") \\\n",
    "        .appName(\"olek\")\\\n",
    "        .config(\"spark.dynamicAllocation.enabled\", True)\\\n",
    "        .config(\"spark.dynamicAllocation.shuffleTracking.enabled\", True)\\\n",
    "        .config(\"spark.shuffle.service.enabled\", False)\\\n",
    "        .config(\"spark.dynamicAllocation.executorIdleTimeout\", \"30s\")\\\n",
    "        .config(\"spark.driver.port\", 9998)\\\n",
    "        .config(\"spark.blockManager.port\", 10005)\\\n",
    "        .getOrCreate()"
   ]
  },
  {
   "cell_type": "code",
   "execution_count": 3,
   "id": "9b02d2e9-ff20-4a63-aa9c-4a0c7330ec4e",
   "metadata": {},
   "outputs": [
    {
     "name": "stderr",
     "output_type": "stream",
     "text": [
      "[Stage 0:==============================================>           (8 + 2) / 10]\r"
     ]
    },
    {
     "name": "stdout",
     "output_type": "stream",
     "text": [
      "root\n",
      " |-- archived: boolean (nullable = true)\n",
      " |-- author: string (nullable = true)\n",
      " |-- author_flair_css_class: string (nullable = true)\n",
      " |-- author_flair_text: string (nullable = true)\n",
      " |-- body: string (nullable = true)\n",
      " |-- controversiality: long (nullable = true)\n",
      " |-- created_utc: string (nullable = true)\n",
      " |-- distinguished: string (nullable = true)\n",
      " |-- downs: long (nullable = true)\n",
      " |-- edited: string (nullable = true)\n",
      " |-- gilded: long (nullable = true)\n",
      " |-- id: string (nullable = true)\n",
      " |-- link_id: string (nullable = true)\n",
      " |-- name: string (nullable = true)\n",
      " |-- parent_id: string (nullable = true)\n",
      " |-- removal_reason: string (nullable = true)\n",
      " |-- retrieved_on: long (nullable = true)\n",
      " |-- score: long (nullable = true)\n",
      " |-- score_hidden: boolean (nullable = true)\n",
      " |-- subreddit: string (nullable = true)\n",
      " |-- subreddit_id: string (nullable = true)\n",
      " |-- ups: long (nullable = true)\n",
      "\n"
     ]
    },
    {
     "name": "stderr",
     "output_type": "stream",
     "text": [
      "                                                                                \r"
     ]
    }
   ],
   "source": [
    "# Read file\n",
    "df = ss.read.json('hdfs://192.168.2.184:9000/RC_2009-10')\n",
    "df.printSchema()"
   ]
  },
  {
   "cell_type": "code",
   "execution_count": 4,
   "id": "9ec8f6fc-ce21-47ca-a945-a0ffefb30cc7",
   "metadata": {},
   "outputs": [
    {
     "name": "stdout",
     "output_type": "stream",
     "text": [
      "root\n",
      " |-- body: string (nullable = true)\n",
      " |-- downs: long (nullable = true)\n",
      " |-- score: long (nullable = true)\n",
      " |-- subreddit: string (nullable = true)\n",
      " |-- ups: long (nullable = true)\n",
      "\n"
     ]
    }
   ],
   "source": [
    "# Drop unused columns\n",
    "df = df.drop('archived', 'author', 'author_flair_css_class', 'author_flair_text', 'created_utc', 'edited',\\\n",
    "            'gilded', 'id', 'link_id', 'name', 'parent_id', 'removal_reason', 'retrieved_on',\\\n",
    "            'score_hidden', 'subreddit_id', 'distinguished', 'controversiality');\n",
    "\n",
    "df.printSchema()"
   ]
  },
  {
   "cell_type": "code",
   "execution_count": 5,
   "id": "fa562da7-6905-4779-b917-fb9f277c806f",
   "metadata": {},
   "outputs": [],
   "source": [
    "# Tokenize comment body\n",
    "\n",
    "import string\n",
    "def tokenize(text):\n",
    "    return text.translate(str.maketrans('', '', string.punctuation)).lower().split()\n",
    "\n",
    "udf_tokenize =  UDF(tokenize, ArrayType(StringType()))\n",
    "\n",
    "df = df.withColumn('body', udf_tokenize(df.body))"
   ]
  },
  {
   "cell_type": "code",
   "execution_count": 6,
   "id": "a460017a-c62c-4dd4-937b-5c9fa2dcb390",
   "metadata": {},
   "outputs": [],
   "source": [
    "# Comment length feature\n",
    "\n",
    "df = df.withColumn('comment_length', size(df.body))"
   ]
  },
  {
   "cell_type": "code",
   "execution_count": 7,
   "id": "ffc65f48-49a0-488e-be89-a43594ec1b0e",
   "metadata": {},
   "outputs": [
    {
     "name": "stderr",
     "output_type": "stream",
     "text": [
      "[Stage 1:>                                                          (0 + 1) / 1]\r"
     ]
    },
    {
     "name": "stdout",
     "output_type": "stream",
     "text": [
      "+-------+\n",
      "|deleted|\n",
      "+-------+\n",
      "|      1|\n",
      "|      0|\n",
      "|      0|\n",
      "|      0|\n",
      "|      0|\n",
      "|      0|\n",
      "|      0|\n",
      "|      0|\n",
      "|      0|\n",
      "|      0|\n",
      "|      0|\n",
      "|      0|\n",
      "|      0|\n",
      "|      1|\n",
      "|      0|\n",
      "|      0|\n",
      "|      0|\n",
      "|      0|\n",
      "|      0|\n",
      "|      0|\n",
      "+-------+\n",
      "only showing top 20 rows\n",
      "\n"
     ]
    },
    {
     "name": "stderr",
     "output_type": "stream",
     "text": [
      "                                                                                \r"
     ]
    }
   ],
   "source": [
    "# Deleted comment feature\n",
    "def check_deleted(line):\n",
    "    if line == ['removed'] or line == ['deleted']:\n",
    "        return 1\n",
    "    else:\n",
    "        return 0\n",
    "\n",
    "udf_deleted = UDF(check_deleted, IntegerType())\n",
    "\n",
    "df = df.withColumn('deleted', udf_deleted(df.body))\n",
    "\n",
    "\n",
    "df.select('deleted').show()"
   ]
  },
  {
   "cell_type": "code",
   "execution_count": 8,
   "id": "cb6462ff-b232-4aba-b30f-0750ef6f5cc8",
   "metadata": {},
   "outputs": [],
   "source": [
    "# Controversial words feature\n",
    "\n",
    "cont_words = 'abuse, administration, afghanistan, aid, america,' + \\\n",
    "'american, army, attack, attacks, authorities, authority, ban, banks, benefits, bill, bills,' + \\\n",
    "'border, budget, campaign, candidate, candidates, catholic, china, chinese, church,'+ \\\n",
    "'concerns, congress, conservative, control, country, court, crime, criminal, crisis, cuts,'+\\\n",
    "'debate, debt, defense, deficit, democrats, disease, dollar, drug, drugs, economy, education,'+\\\n",
    "'egypt, election, elections, enforcement, fighting, finance, fiscal, force, funding,'+\\\n",
    "'gas, government, gun, health, immigration, inaccuracies, india, insurance, investigation,'+\\\n",
    "'investigators, iran, israel, job, jobs, judge, justice, killing, korea, labor, land,'+\\\n",
    "'law, lawmakers, laws, lawsuit, leadership, legislation, marriage, media, mexico, military,'+\\\n",
    "'money, murder, nation, nations, news, obama, offensive, officials, oil, parties,'+\\\n",
    "'peace, police, policies, policy, politics, poll, power, president, prices, primary, prison,'+\\\n",
    "'progress, race, reform, republican, republicans, restrictions, rule, rules, ruling, russia,'+\\\n",
    "'russian, school, security, senate, sex, shooting, society, spending, strategy, strike, support,'+\\\n",
    "'syria, syrian, tax, taxes, threat, trial, unemployment, union, usa, victim, victims,'+\\\n",
    "'violence, vote, voters, war, washington, weapons, world,'\n",
    "\n",
    "semi_cont_words = 'account, advantage, amount, attorney, chairman,'+\\\n",
    "'charge, charges, cities, class, comment, companies, cost, credit, delays, effect, expectations,'+\\\n",
    "'families, family, february, germany, goal, housing, information, investment,'+\\\n",
    "'markets, numbers, oklahoma, parents, patients, population, price, projects, raise, rate,'+\\\n",
    "'reason, sales, schools, sector, shot, source, sources, status, stock, store, worth,'\n",
    "\n",
    "controversial = tokenize(cont_words)\n",
    "semi_controversial = tokenize(semi_cont_words)\n",
    "\n",
    "def controversial_words(line, controversial = controversial, semi_controversial = semi_controversial):\n",
    "    score = 0\n",
    "    for word in line:\n",
    "        if word in controversial:\n",
    "            score += 3\n",
    "        elif word in semi_controversial:\n",
    "            score += 1\n",
    "    return score\n",
    "    \n",
    "udf_controversial = UDF(controversial_words, IntegerType())\n",
    "\n",
    "df = df.withColumn('cont_word_score', udf_controversial('body'))"
   ]
  },
  {
   "cell_type": "code",
   "execution_count": 9,
   "id": "adfab0da-6900-4d1f-932f-4cfb600b277a",
   "metadata": {},
   "outputs": [
    {
     "name": "stdout",
     "output_type": "stream",
     "text": [
      "+-----------+\n",
      "|  subreddit|\n",
      "+-----------+\n",
      "|       IAmA|\n",
      "|programming|\n",
      "| reddit.com|\n",
      "|   politics|\n",
      "|       IAmA|\n",
      "|        WTF|\n",
      "|       pics|\n",
      "|       IAmA|\n",
      "|     gaming|\n",
      "|  Marijuana|\n",
      "|       lgbt|\n",
      "|        tf2|\n",
      "|       IAmA|\n",
      "|  worldnews|\n",
      "|     Health|\n",
      "|  AskReddit|\n",
      "|   politics|\n",
      "|        tf2|\n",
      "|    toronto|\n",
      "| reddit.com|\n",
      "+-----------+\n",
      "only showing top 20 rows\n",
      "\n"
     ]
    }
   ],
   "source": [
    "df.select('subreddit').show()"
   ]
  },
  {
   "cell_type": "code",
   "execution_count": 10,
   "id": "2b264d96-16bc-41a1-81bd-db15a7958f46",
   "metadata": {
    "tags": []
   },
   "outputs": [
    {
     "name": "stdout",
     "output_type": "stream",
     "text": [
      "root\n",
      " |-- body: array (nullable = true)\n",
      " |    |-- element: string (containsNull = true)\n",
      " |-- downs: long (nullable = true)\n",
      " |-- score: long (nullable = true)\n",
      " |-- subreddit: string (nullable = true)\n",
      " |-- ups: long (nullable = true)\n",
      " |-- comment_length: integer (nullable = false)\n",
      " |-- deleted: integer (nullable = true)\n",
      " |-- cont_word_score: integer (nullable = true)\n",
      "\n"
     ]
    }
   ],
   "source": [
    "df.printSchema()"
   ]
  },
  {
   "cell_type": "code",
   "execution_count": 11,
   "id": "7dc60101-7468-460e-a0bf-88eb27b52d19",
   "metadata": {},
   "outputs": [],
   "source": [
    "controversial_subreddits = [\"Conservative\", \"syriancivilwar\", \"conspiracy\", \"SeattleWA\", \"ukpolitics\", \"canada\", \"DC_cinematics\", \"worldnews\", \"bestof\", \"news\", \"europe\", \"Austin\", \"Documentaries\", \"PublicFreakout\", \"Portland\", \"JusticeServed\", \"JoeRogan\", \"toronto\", \"Games\", \"vancouver\"] "
   ]
  },
  {
   "cell_type": "code",
   "execution_count": 12,
   "id": "61dfaf71-5faa-418f-a906-5e9aeccd791c",
   "metadata": {},
   "outputs": [],
   "source": [
    "#check if comment was posted on potentially controversial subreddit\n",
    "def controversial_subreddits(line, controversial_subreddits = controversial_subreddits):\n",
    "    if line in controversial_subreddits:\n",
    "        return 1\n",
    "    else:\n",
    "        return 0\n",
    "    \n",
    "udf_subreddits = UDF(controversial_subreddits, IntegerType())   \n",
    "df = df.withColumn('cont_subreddits', udf_controversial(df.subreddit))"
   ]
  },
  {
   "cell_type": "code",
   "execution_count": 13,
   "id": "2c457558-4b7a-4fab-b295-21df655d0235",
   "metadata": {},
   "outputs": [],
   "source": [
    "#dropping columns we develop features on, just in case changing long ints to ints\n",
    "df = df.drop(\"subreddit\", \"body\")\n",
    "df = df.withColumn('downs',df['downs'].cast(\"int\").alias('downs'))\n",
    "df = df.withColumn('ups',df['ups'].cast(\"int\").alias('ups'))\n",
    "df = df.withColumn('score',df['score'].cast(\"int\").alias('score'))"
   ]
  },
  {
   "cell_type": "code",
   "execution_count": 14,
   "id": "db0110d2-7650-4054-a8e6-c3e8af4f69f1",
   "metadata": {},
   "outputs": [
    {
     "name": "stdout",
     "output_type": "stream",
     "text": [
      "root\n",
      " |-- downs: integer (nullable = true)\n",
      " |-- score: integer (nullable = true)\n",
      " |-- ups: integer (nullable = true)\n",
      " |-- comment_length: integer (nullable = false)\n",
      " |-- deleted: integer (nullable = true)\n",
      " |-- cont_word_score: integer (nullable = true)\n",
      " |-- cont_subreddits: integer (nullable = true)\n",
      "\n"
     ]
    }
   ],
   "source": [
    "df.printSchema()"
   ]
  },
  {
   "cell_type": "code",
   "execution_count": 15,
   "id": "82e36e6d-8133-48b7-a704-97e9dda703ca",
   "metadata": {},
   "outputs": [
    {
     "name": "stderr",
     "output_type": "stream",
     "text": [
      "[Stage 6:=============================>                            (8 + 8) / 16]\r"
     ]
    },
    {
     "name": "stdout",
     "output_type": "stream",
     "text": [
      "ratio: 0.09017560835665296\n"
     ]
    },
    {
     "name": "stderr",
     "output_type": "stream",
     "text": [
      "                                                                                \r"
     ]
    }
   ],
   "source": [
    "#calculatiog ratio postive class/negative class\n",
    "positive = df.filter(col(\"deleted\") == 1)\n",
    "negative = df.filter(col(\"deleted\") == 0)\n",
    "ratio = positive.count()/negative.count()\n",
    "print(\"ratio: {}\".format(ratio))"
   ]
  },
  {
   "cell_type": "code",
   "execution_count": 16,
   "id": "a9dddcf1-382b-4daa-9f6d-7ef9d4228a50",
   "metadata": {},
   "outputs": [],
   "source": [
    "#undersampling\n",
    "sampled_df = negative.sample(False, ratio)\n",
    "undersampled_df = sampled_df.unionAll(positive)\n"
   ]
  },
  {
   "cell_type": "code",
   "execution_count": 17,
   "id": "d7b4d434-b269-40c0-b373-95883bb1b11c",
   "metadata": {},
   "outputs": [
    {
     "name": "stderr",
     "output_type": "stream",
     "text": [
      "                                                                                \r"
     ]
    },
    {
     "data": {
      "text/plain": [
       "185452"
      ]
     },
     "execution_count": 17,
     "metadata": {},
     "output_type": "execute_result"
    }
   ],
   "source": [
    "#checking if undersampling worked\n",
    "undersampled_df.select(\"deleted\").where(undersampled_df[\"deleted\"] == 1).count()"
   ]
  },
  {
   "cell_type": "code",
   "execution_count": 18,
   "id": "417d3bbb-405d-4cca-a0ed-f4272540f05d",
   "metadata": {},
   "outputs": [
    {
     "name": "stderr",
     "output_type": "stream",
     "text": [
      "                                                                                \r"
     ]
    },
    {
     "data": {
      "text/plain": [
       "185600"
      ]
     },
     "execution_count": 18,
     "metadata": {},
     "output_type": "execute_result"
    }
   ],
   "source": [
    "#checking if undersampling worked\n",
    "undersampled_df.select(\"deleted\").where(undersampled_df[\"deleted\"] == 0).count()"
   ]
  },
  {
   "cell_type": "code",
   "execution_count": 19,
   "id": "9fb1427a-f454-4938-b125-f6dd44c0204e",
   "metadata": {},
   "outputs": [
    {
     "name": "stderr",
     "output_type": "stream",
     "text": [
      "                                                                                \r"
     ]
    },
    {
     "name": "stdout",
     "output_type": "stream",
     "text": [
      "+-----+-----+---+--------------+-------+---------------+---------------+\n",
      "|downs|score|ups|comment_length|deleted|cont_word_score|cont_subreddits|\n",
      "+-----+-----+---+--------------+-------+---------------+---------------+\n",
      "|    0|    1|  1|             5|      0|              0|              0|\n",
      "|    0|    1|  1|            22|      0|              0|              0|\n",
      "|    0|    1|  1|           201|      0|             18|              0|\n",
      "|    0|    5|  5|             4|      0|              0|              0|\n",
      "|    0|   15| 15|             6|      0|              0|              0|\n",
      "|    0|    0|  0|            12|      0|              3|              0|\n",
      "|    0|    3|  3|             5|      0|              0|              0|\n",
      "|    0|    1|  1|            13|      0|              0|              0|\n",
      "|    0|    3|  3|           199|      0|              0|              0|\n",
      "|    0|    7|  7|            35|      0|              0|              0|\n",
      "|    0|    1|  1|            28|      0|              0|              0|\n",
      "|    0|    3|  3|            12|      0|              0|              0|\n",
      "|    0|    1|  1|            86|      0|              0|              0|\n",
      "|    0|    1|  1|            22|      0|              0|              0|\n",
      "|    0|    6|  6|            28|      0|              0|              0|\n",
      "|    0|    3|  3|            43|      0|              0|              0|\n",
      "|    0|   13| 13|            33|      0|              1|              0|\n",
      "|    0|    0|  0|            11|      0|              0|              0|\n",
      "|    0|    1|  1|            30|      0|              0|              0|\n",
      "|    0|    1|  1|            44|      0|              0|              0|\n",
      "+-----+-----+---+--------------+-------+---------------+---------------+\n",
      "only showing top 20 rows\n",
      "\n"
     ]
    }
   ],
   "source": [
    "undersampled_df.show()"
   ]
  },
  {
   "cell_type": "code",
   "execution_count": 20,
   "id": "7cde6391-e66f-43b1-8a8a-85b914327817",
   "metadata": {},
   "outputs": [],
   "source": [
    "from pyspark.ml.feature import VectorAssembler, StringIndexer\n",
    "#score, ups and downs are correlated but they may work differently with different version of reddit comments\n",
    "#putting features into vector of features\n",
    "numericCols = ['ups', 'downs', 'score', 'cont_word_score','cont_subreddits']\n",
    "assemblerInputs =  numericCols\n",
    "assembler = VectorAssembler(inputCols=assemblerInputs, outputCol=\"features\")\n",
    "stages = [assembler]"
   ]
  },
  {
   "cell_type": "code",
   "execution_count": 21,
   "id": "0c51e1de-72bb-4e0e-99d6-7a5e5f7bcd72",
   "metadata": {},
   "outputs": [],
   "source": [
    "from pyspark.ml.classification import LogisticRegression\n",
    "from pyspark.ml import Pipeline\n",
    "#making column of feature vectots\n",
    "pipeline = Pipeline(stages = stages)\n",
    "pipelineModel = pipeline.fit(undersampled_df)\n",
    "model_df = pipelineModel.transform(undersampled_df)"
   ]
  },
  {
   "cell_type": "code",
   "execution_count": 22,
   "id": "3ac2338e-159c-4b55-9ea1-ef124e7fb3fc",
   "metadata": {},
   "outputs": [
    {
     "name": "stderr",
     "output_type": "stream",
     "text": [
      "[Stage 16:>                                                         (0 + 1) / 1]\r"
     ]
    },
    {
     "name": "stdout",
     "output_type": "stream",
     "text": [
      "+--------------------+\n",
      "|            features|\n",
      "+--------------------+\n",
      "| (5,[0,2],[1.0,1.0])|\n",
      "| (5,[0,2],[1.0,1.0])|\n",
      "|[1.0,0.0,1.0,18.0...|\n",
      "| (5,[0,2],[5.0,5.0])|\n",
      "|(5,[0,2],[15.0,15...|\n",
      "|       (5,[3],[3.0])|\n",
      "| (5,[0,2],[3.0,3.0])|\n",
      "| (5,[0,2],[1.0,1.0])|\n",
      "| (5,[0,2],[3.0,3.0])|\n",
      "| (5,[0,2],[7.0,7.0])|\n",
      "| (5,[0,2],[1.0,1.0])|\n",
      "| (5,[0,2],[3.0,3.0])|\n",
      "| (5,[0,2],[1.0,1.0])|\n",
      "| (5,[0,2],[1.0,1.0])|\n",
      "| (5,[0,2],[6.0,6.0])|\n",
      "| (5,[0,2],[3.0,3.0])|\n",
      "|[13.0,0.0,13.0,1....|\n",
      "|           (5,[],[])|\n",
      "| (5,[0,2],[1.0,1.0])|\n",
      "| (5,[0,2],[1.0,1.0])|\n",
      "+--------------------+\n",
      "only showing top 20 rows\n",
      "\n"
     ]
    },
    {
     "name": "stderr",
     "output_type": "stream",
     "text": [
      "                                                                                \r"
     ]
    }
   ],
   "source": [
    "#checking if it worked\n",
    "model_df.select(\"features\").show()"
   ]
  },
  {
   "cell_type": "code",
   "execution_count": 23,
   "id": "0f4a582e-1dbe-48fb-9a7a-06900414c5e4",
   "metadata": {},
   "outputs": [],
   "source": [
    "#triai-test split\n",
    "train, test = model_df.randomSplit([0.8, 0.2], seed = 3)"
   ]
  },
  {
   "cell_type": "code",
   "execution_count": 24,
   "id": "ff28fd5f-5922-45d1-9a56-efc09c2ca2c8",
   "metadata": {},
   "outputs": [
    {
     "name": "stderr",
     "output_type": "stream",
     "text": [
      "                                                                                \r"
     ]
    }
   ],
   "source": [
    "#training logistic regression\n",
    "from pyspark.ml.classification import LogisticRegression\n",
    "lr = LogisticRegression(featuresCol = 'features', labelCol = 'deleted', maxIter=10)\n",
    "lrModel = lr.fit(train)"
   ]
  },
  {
   "cell_type": "code",
   "execution_count": 25,
   "id": "1cc73a37-eb6d-46ff-973b-41d7c7bb6d34",
   "metadata": {},
   "outputs": [
    {
     "name": "stderr",
     "output_type": "stream",
     "text": [
      "/home/ubuntu/.local/lib/python3.8/site-packages/pyspark/sql/context.py:125: FutureWarning: Deprecated in 3.0.0. Use SparkSession.builder.getOrCreate() instead.\n",
      "  warnings.warn(\n"
     ]
    },
    {
     "data": {
      "image/png": "[encoded data removed]",
      "text/plain": [
       "<Figure size 432x288 with 1 Axes>"
      ]
     },
     "metadata": {
      "needs_background": "light"
     },
     "output_type": "display_data"
    },
    {
     "name": "stdout",
     "output_type": "stream",
     "text": [
      "Training set areaUnderROC: 0.71882605923606\n"
     ]
    }
   ],
   "source": [
    "#checking if better than random classifier\n",
    "trainingSummary = lrModel.summary\n",
    "roc = trainingSummary.roc.toPandas()\n",
    "import matplotlib.pyplot as plt\n",
    "plt.plot(roc['FPR'],roc['TPR'])\n",
    "plt.ylabel('False Positive Rate')\n",
    "plt.xlabel('True Positive Rate')\n",
    "plt.title('ROC Curve')\n",
    "plt.show()\n",
    "print('Training set areaUnderROC: ' + str(trainingSummary.areaUnderROC))"
   ]
  },
  {
   "cell_type": "code",
   "execution_count": 26,
   "id": "6b4a64b8-0e10-48ae-bf67-0caea2fc285c",
   "metadata": {},
   "outputs": [],
   "source": [
    "#making predictions on test dataset\n",
    "predictions = lrModel.transform(test)"
   ]
  },
  {
   "cell_type": "code",
   "execution_count": 28,
   "id": "7a44ef43-f0e4-48eb-9f9c-d01924d357b8",
   "metadata": {},
   "outputs": [
    {
     "name": "stderr",
     "output_type": "stream",
     "text": [
      "                                                                                \r"
     ]
    }
   ],
   "source": [
    "#calculating accuracy\n",
    "accuracy = predictions.filter(predictions.deleted == predictions.prediction).count() / float(predictions.count())"
   ]
  },
  {
   "cell_type": "code",
   "execution_count": 29,
   "id": "c93c7832-2781-4bc4-a82a-8bd3115d67f6",
   "metadata": {},
   "outputs": [
    {
     "data": {
      "text/plain": [
       "0.6245200955781673"
      ]
     },
     "execution_count": 29,
     "metadata": {},
     "output_type": "execute_result"
    }
   ],
   "source": [
    "accuracy"
   ]
  },
  {
   "cell_type": "code",
   "execution_count": 34,
   "id": "53ea71bc-34d7-4962-9aa1-8890cb8209b0",
   "metadata": {},
   "outputs": [
    {
     "data": {
      "text/plain": [
       "DenseVector([-0.0078, 0.0, -0.0078, -3.4987, 0.0])"
      ]
     },
     "execution_count": 34,
     "metadata": {},
     "output_type": "execute_result"
    }
   ],
   "source": [
    "#checking which \n",
    "lrModel.coefficients"
   ]
  },
  {
   "cell_type": "code",
   "execution_count": 30,
   "id": "4d04801b-048e-49b2-b696-62b0208258a8",
   "metadata": {},
   "outputs": [],
   "source": [
    "########## MAKING ALL PERMUTATIONS OF FEATRUES################################### commenting out since it took too long"
   ]
  },
  {
   "cell_type": "code",
   "execution_count": 31,
   "id": "067b0aae-5e50-472b-9f45-a5eb4930467d",
   "metadata": {},
   "outputs": [
    {
     "data": {
      "text/plain": [
       "'from itertools import combinations\\n\\ncombinations = sum([list(map(list, combinations(numericCols, i))) for i in range(len(numericCols) + 1)], [])'"
      ]
     },
     "execution_count": 31,
     "metadata": {},
     "output_type": "execute_result"
    }
   ],
   "source": [
    "\"\"\"from itertools import combinations\n",
    "\n",
    "combinations = sum([list(map(list, combinations(numericCols, i))) for i in range(len(numericCols) + 1)], [])\"\"\""
   ]
  },
  {
   "cell_type": "code",
   "execution_count": 32,
   "id": "d7171654-397e-4a85-a228-f67e3f882ec4",
   "metadata": {},
   "outputs": [
    {
     "data": {
      "text/plain": [
       "'combinations = combinations[1:]'"
      ]
     },
     "execution_count": 32,
     "metadata": {},
     "output_type": "execute_result"
    }
   ],
   "source": [
    "\"\"\"combinations = combinations[1:]\"\"\""
   ]
  },
  {
   "cell_type": "code",
   "execution_count": 33,
   "id": "e2d89b1c-5712-4e57-9f8e-df8854aa370b",
   "metadata": {},
   "outputs": [
    {
     "data": {
      "text/plain": [
       "'accuracies = []\\nfor features in combinations:\\n    model_df.drop(\"features\")\\n    assemblerInputs =  features\\n    assembler = VectorAssembler(inputCols=assemblerInputs, outputCol=\"features\")\\n    stages = [assembler]\\n    pipeline = Pipeline(stages = stages)\\n    pipelineModel = pipeline.fit(undersampled_df)\\n    model_df = pipelineModel.transform(undersampled_df)\\n    lr = LogisticRegression(featuresCol = \\'features\\', labelCol = \\'deleted\\', maxIter=10)\\n    lrModel = lr.fit(train)\\n    predictions = lrModel.transform(test)\\n    accuracies.append(predictions.filter(predictions.deleted == predictions.prediction).count() / float(predictions.count()))\\n    '"
      ]
     },
     "execution_count": 33,
     "metadata": {},
     "output_type": "execute_result"
    }
   ],
   "source": [
    "\"\"\"accuracies = []\n",
    "for features in combinations:\n",
    "    model_df.drop(\"features\")\n",
    "    assemblerInputs =  features\n",
    "    assembler = VectorAssembler(inputCols=assemblerInputs, outputCol=\"features\")\n",
    "    stages = [assembler]\n",
    "    pipeline = Pipeline(stages = stages)\n",
    "    pipelineModel = pipeline.fit(undersampled_df)\n",
    "    model_df = pipelineModel.transform(undersampled_df)\n",
    "    lr = LogisticRegression(featuresCol = 'features', labelCol = 'deleted', maxIter=10)\n",
    "    lrModel = lr.fit(train)\n",
    "    predictions = lrModel.transform(test)\n",
    "    accuracies.append(predictions.filter(predictions.deleted == predictions.prediction).count() / float(predictions.count()))\n",
    "    \"\"\""
   ]
  }
 ],
 "metadata": {
  "kernelspec": {
   "display_name": "Python 3 (ipykernel)",
   "language": "python",
   "name": "python3"
  },
  "language_info": {
   "codemirror_mode": {
    "name": "ipython",
    "version": 3
   },
   "file_extension": ".py",
   "mimetype": "text/x-python",
   "name": "python",
   "nbconvert_exporter": "python",
   "pygments_lexer": "ipython3",
   "version": "3.8.10"
  }
 },
 "nbformat": 4,
 "nbformat_minor": 5
}
