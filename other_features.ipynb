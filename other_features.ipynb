{
 "cells": [
  {
   "cell_type": "code",
   "execution_count": 44,
   "id": "da95a9fc-bb40-44fd-b92d-0d951e9c06a8",
   "metadata": {},
   "outputs": [],
   "source": [
    "# Imports\n",
    "\n",
    "from pyspark.sql import SparkSession\n",
    "from pyspark.sql.functions import UserDefinedFunction as UDF\n",
    "from pyspark.sql.functions import size\n",
    "from pyspark.sql.types import ArrayType, StringType, IntegerType"
   ]
  },
  {
   "cell_type": "code",
   "execution_count": 45,
   "id": "a5308fb7-8979-40ce-af76-a174f15dafd6",
   "metadata": {},
   "outputs": [
    {
     "name": "stderr",
     "output_type": "stream",
     "text": [
      "22/03/15 21:00:04 WARN ExecutorAllocationManager: Dynamic allocation without a shuffle service is an experimental feature.\n"
     ]
    }
   ],
   "source": [
    "# Start session\n",
    "\n",
    "ss = SparkSession\\\n",
    "        .builder\\\n",
    "        .master(\"spark://192.168.2.90:7077\") \\\n",
    "        .appName(\"andreas\")\\\n",
    "        .config(\"spark.dynamicAllocation.enabled\", True)\\\n",
    "        .config(\"spark.dynamicAllocation.shuffleTracking.enabled\", True)\\\n",
    "        .config(\"spark.shuffle.service.enabled\", False)\\\n",
    "        .config(\"spark.dynamicAllocation.executorIdleTimeout\", \"30s\")\\\n",
    "        .config(\"spark.executor.cores\", 2)\\\n",
    "        .config(\"spark.executor.memory\", \"2g\")\\\n",
    "        .config(\"spark.driver.port\", 9998)\\\n",
    "        .config(\"spark.blockManager.port\", 10005)\\\n",
    "        .getOrCreate()"
   ]
  },
  {
   "cell_type": "code",
   "execution_count": 46,
   "id": "9b02d2e9-ff20-4a63-aa9c-4a0c7330ec4e",
   "metadata": {},
   "outputs": [
    {
     "name": "stderr",
     "output_type": "stream",
     "text": [
      "[Stage 0:=======================================================> (69 + 2) / 71]\r"
     ]
    },
    {
     "name": "stdout",
     "output_type": "stream",
     "text": [
      "root\n",
      " |-- archived: boolean (nullable = true)\n",
      " |-- author: string (nullable = true)\n",
      " |-- author_flair_css_class: string (nullable = true)\n",
      " |-- author_flair_text: string (nullable = true)\n",
      " |-- body: string (nullable = true)\n",
      " |-- controversiality: long (nullable = true)\n",
      " |-- created_utc: string (nullable = true)\n",
      " |-- distinguished: string (nullable = true)\n",
      " |-- downs: long (nullable = true)\n",
      " |-- edited: string (nullable = true)\n",
      " |-- gilded: long (nullable = true)\n",
      " |-- id: string (nullable = true)\n",
      " |-- link_id: string (nullable = true)\n",
      " |-- name: string (nullable = true)\n",
      " |-- parent_id: string (nullable = true)\n",
      " |-- removal_reason: string (nullable = true)\n",
      " |-- retrieved_on: long (nullable = true)\n",
      " |-- score: long (nullable = true)\n",
      " |-- score_hidden: boolean (nullable = true)\n",
      " |-- subreddit: string (nullable = true)\n",
      " |-- subreddit_id: string (nullable = true)\n",
      " |-- ups: long (nullable = true)\n",
      "\n"
     ]
    },
    {
     "name": "stderr",
     "output_type": "stream",
     "text": [
      "                                                                                \r"
     ]
    }
   ],
   "source": [
    "# Read file\n",
    "\n",
    "df = ss.read.json('hdfs://192.168.2.90:9000/user/ubuntu/RC_2012-01')\n",
    "df.printSchema()"
   ]
  },
  {
   "cell_type": "code",
   "execution_count": 47,
   "id": "9ec8f6fc-ce21-47ca-a945-a0ffefb30cc7",
   "metadata": {},
   "outputs": [
    {
     "name": "stdout",
     "output_type": "stream",
     "text": [
      "root\n",
      " |-- body: string (nullable = true)\n",
      " |-- controversiality: long (nullable = true)\n",
      " |-- score: long (nullable = true)\n",
      " |-- subreddit_id: string (nullable = true)\n",
      "\n"
     ]
    }
   ],
   "source": [
    "# Drop unused columns\n",
    "\n",
    "df = df.drop('archived', 'author', 'author_flair_css_class', 'author_flair_text', 'created_utc', 'edited',\\\n",
    "            'gilded', 'id', 'link_id', 'name', 'parent_id', 'removal_reason', 'retrieved_on',\\\n",
    "            'score_hidden', 'subreddit', 'ups', 'downs', 'distinguished');\n",
    "\n",
    "df.printSchema()"
   ]
  },
  {
   "cell_type": "code",
   "execution_count": 48,
   "id": "fa562da7-6905-4779-b917-fb9f277c806f",
   "metadata": {},
   "outputs": [],
   "source": [
    "# Tokenize comment body\n",
    "\n",
    "import string\n",
    "def tokenize(text):\n",
    "    return text.translate(str.maketrans('', '', string.punctuation)).lower().split()\n",
    "\n",
    "udf_tokenize =  UDF(tokenize, ArrayType(StringType()))\n",
    "\n",
    "df = df.withColumn('body', udf_tokenize(df.body))"
   ]
  },
  {
   "cell_type": "code",
   "execution_count": 40,
   "id": "25cdcd53-c9e0-4fef-94f9-17ff27950c38",
   "metadata": {},
   "outputs": [],
   "source": [
    "# Only english\n",
    "\n",
    "# from nltk.corpus import words\n",
    "\n",
    "# words = set(words.words())\n",
    "# words = [word.lower() for word in words]\n",
    "\n",
    "# def only_english(line, words = words):\n",
    "#     return [word for word in line if word in words]\n",
    "\n",
    "# udf_english = UDF(only_english, ArrayType(StringType()))\n",
    "\n",
    "# df = df.withColumn('body', udf_english(df.body))\n",
    "# df = df.filter(size(df.body) > 0)"
   ]
  },
  {
   "cell_type": "code",
   "execution_count": 49,
   "id": "a460017a-c62c-4dd4-937b-5c9fa2dcb390",
   "metadata": {},
   "outputs": [],
   "source": [
    "# Comment length feature\n",
    "\n",
    "df = df.withColumn('comment_length', size(df.body))"
   ]
  },
  {
   "cell_type": "code",
   "execution_count": 50,
   "id": "ffc65f48-49a0-488e-be89-a43594ec1b0e",
   "metadata": {},
   "outputs": [],
   "source": [
    "# Deleted comment feature\n",
    "def check_deleted(line):\n",
    "    for word in line:\n",
    "        if word in ['removed', 'deleted']:\n",
    "            return 1\n",
    "    return 0\n",
    "\n",
    "udf_deleted = UDF(check_deleted, IntegerType())\n",
    "\n",
    "df = df.withColumn('deleted', udf_deleted(df.body))"
   ]
  },
  {
   "cell_type": "code",
   "execution_count": 54,
   "id": "cb6462ff-b232-4aba-b30f-0750ef6f5cc8",
   "metadata": {},
   "outputs": [],
   "source": [
    "# Controversial words feature\n",
    "\n",
    "cont_words = 'abuse, administration, afghanistan, aid, america,' + \\\n",
    "'american, army, attack, attacks, authorities, authority, ban, banks, benefits, bill, bills,' + \\\n",
    "'border, budget, campaign, candidate, candidates, catholic, china, chinese, church,'+ \\\n",
    "'concerns, congress, conservative, control, country, court, crime, criminal, crisis, cuts,'+\\\n",
    "'debate, debt, defense, deficit, democrats, disease, dollar, drug, drugs, economy, education,'+\\\n",
    "'egypt, election, elections, enforcement, fighting, finance, fiscal, force, funding,'+\\\n",
    "'gas, government, gun, health, immigration, inaccuracies, india, insurance, investigation,'+\\\n",
    "'investigators, iran, israel, job, jobs, judge, justice, killing, korea, labor, land,'+\\\n",
    "'law, lawmakers, laws, lawsuit, leadership, legislation, marriage, media, mexico, military,'+\\\n",
    "'money, murder, nation, nations, news, obama, offensive, officials, oil, parties,'+\\\n",
    "'peace, police, policies, policy, politics, poll, power, president, prices, primary, prison,'+\\\n",
    "'progress, race, reform, republican, republicans, restrictions, rule, rules, ruling, russia,'+\\\n",
    "'russian, school, security, senate, sex, shooting, society, spending, strategy, strike, support,'+\\\n",
    "'syria, syrian, tax, taxes, threat, trial, unemployment, union, usa, victim, victims,'+\\\n",
    "'violence, vote, voters, war, washington, weapons, world,'\n",
    "\n",
    "semi_cont_words = 'account, advantage, amount, attorney, chairman,'+\\\n",
    "'charge, charges, cities, class, comment, companies, cost, credit, delays, effect, expectations,'+\\\n",
    "'families, family, february, germany, goal, housing, information, investment,'+\\\n",
    "'markets, numbers, oklahoma, parents, patients, population, price, projects, raise, rate,'+\\\n",
    "'reason, sales, schools, sector, shot, source, sources, status, stock, store, worth,'\n",
    "\n",
    "controversial = tokenize(cont_words)\n",
    "semi_controversial = tokenize(semi_cont_words)\n",
    "\n",
    "def controversial_words(line, controversial = controversial, semi_controversial = semi_controversial):\n",
    "    score = 0\n",
    "    for word in line:\n",
    "        if word in controversial:\n",
    "            score += 3\n",
    "        elif word in semi_controversial:\n",
    "            score += 1\n",
    "    return score\n",
    "    \n",
    "udf_controversial = UDF(controversial_words, IntegerType())\n",
    "\n",
    "df = df.withColumn('cont_word_score', udf_controversial(df.body))"
   ]
  },
  {
   "cell_type": "code",
   "execution_count": 57,
   "id": "adfab0da-6900-4d1f-932f-4cfb600b277a",
   "metadata": {},
   "outputs": [
    {
     "name": "stderr",
     "output_type": "stream",
     "text": [
      "                                                                                \r"
     ]
    },
    {
     "data": {
      "text/plain": [
       "16350205"
      ]
     },
     "execution_count": 57,
     "metadata": {},
     "output_type": "execute_result"
    }
   ],
   "source": [
    "df.count()"
   ]
  },
  {
   "cell_type": "code",
   "execution_count": 58,
   "id": "2b264d96-16bc-41a1-81bd-db15a7958f46",
   "metadata": {},
   "outputs": [
    {
     "name": "stdout",
     "output_type": "stream",
     "text": [
      "root\n",
      " |-- body: array (nullable = true)\n",
      " |    |-- element: string (containsNull = true)\n",
      " |-- controversiality: long (nullable = true)\n",
      " |-- score: long (nullable = true)\n",
      " |-- subreddit_id: string (nullable = true)\n",
      " |-- comment_length: integer (nullable = false)\n",
      " |-- deleted: integer (nullable = true)\n",
      " |-- cont_word_score: integer (nullable = true)\n",
      "\n"
     ]
    }
   ],
   "source": [
    "df.printSchema()"
   ]
  },
  {
   "cell_type": "code",
   "execution_count": 59,
   "id": "61dfaf71-5faa-418f-a906-5e9aeccd791c",
   "metadata": {},
   "outputs": [],
   "source": [
    "ss.stop()"
   ]
  },
  {
   "cell_type": "code",
   "execution_count": null,
   "id": "12fa791b-9f41-4449-9067-8e4302a1f166",
   "metadata": {},
   "outputs": [],
   "source": []
  }
 ],
 "metadata": {
  "kernelspec": {
   "display_name": "Python 3 (ipykernel)",
   "language": "python",
   "name": "python3"
  },
  "language_info": {
   "codemirror_mode": {
    "name": "ipython",
    "version": 3
   },
   "file_extension": ".py",
   "mimetype": "text/x-python",
   "name": "python",
   "nbconvert_exporter": "python",
   "pygments_lexer": "ipython3",
   "version": "3.8.10"
  }
 },
 "nbformat": 4,
 "nbformat_minor": 5
}
