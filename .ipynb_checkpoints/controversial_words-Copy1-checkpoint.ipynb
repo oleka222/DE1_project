{
 "cells": [
  {
   "cell_type": "code",
   "execution_count": 60,
   "id": "ee2d9ca5-8d07-408b-a62b-1e6912dcf81e",
   "metadata": {},
   "outputs": [
    {
     "name": "stderr",
     "output_type": "stream",
     "text": [
      "22/03/15 14:18:07 WARN ExecutorAllocationManager: Dynamic allocation without a shuffle service is an experimental feature.\n"
     ]
    }
   ],
   "source": [
    "from pyspark.sql import SparkSession\n",
    "\n",
    "ss = SparkSession\\\n",
    "        .builder\\\n",
    "        .master(\"spark://192.168.2.61:7077\") \\\n",
    "        .appName(\"template\")\\\n",
    "        .config(\"spark.dynamicAllocation.enabled\", True)\\\n",
    "        .config(\"spark.dynamicAllocation.shuffleTracking.enabled\", True)\\\n",
    "        .config(\"spark.shuffle.service.enabled\", False)\\\n",
    "        .config(\"spark.dynamicAllocation.executorIdleTimeout\", \"3000s\")\\\n",
    "        .config(\"spark.executor.cores\", 1)\\\n",
    "        .config(\"spark.driver.port\", 9998)\\\n",
    "        .config(\"spark.blockManager.port\", 10005)\\\n",
    "        .getOrCreate()"
   ]
  },
  {
   "cell_type": "code",
   "execution_count": 61,
   "id": "2cfa89d0-b2c7-42b3-8185-13f10fa545ae",
   "metadata": {},
   "outputs": [
    {
     "name": "stderr",
     "output_type": "stream",
     "text": [
      "                                                                                \r"
     ]
    }
   ],
   "source": [
    "df = ss.read.json('hdfs://192.168.2.184:9000/RC_2011-07').cache()"
   ]
  },
  {
   "cell_type": "code",
   "execution_count": 62,
   "id": "7f9a8b48-a809-4e4a-99f2-6a2f70f40cdd",
   "metadata": {},
   "outputs": [
    {
     "name": "stdout",
     "output_type": "stream",
     "text": [
      "root\n",
      " |-- _corrupt_record: string (nullable = true)\n",
      " |-- archived: boolean (nullable = true)\n",
      " |-- author: string (nullable = true)\n",
      " |-- author_flair_css_class: string (nullable = true)\n",
      " |-- author_flair_text: string (nullable = true)\n",
      " |-- body: string (nullable = true)\n",
      " |-- controversiality: long (nullable = true)\n",
      " |-- created_utc: string (nullable = true)\n",
      " |-- distinguished: string (nullable = true)\n",
      " |-- downs: long (nullable = true)\n",
      " |-- edited: string (nullable = true)\n",
      " |-- gilded: long (nullable = true)\n",
      " |-- id: string (nullable = true)\n",
      " |-- link_id: string (nullable = true)\n",
      " |-- name: string (nullable = true)\n",
      " |-- parent_id: string (nullable = true)\n",
      " |-- retrieved_on: long (nullable = true)\n",
      " |-- score: long (nullable = true)\n",
      " |-- score_hidden: boolean (nullable = true)\n",
      " |-- subreddit: string (nullable = true)\n",
      " |-- subreddit_id: string (nullable = true)\n",
      " |-- ups: long (nullable = true)\n",
      "\n"
     ]
    }
   ],
   "source": [
    "df.printSchema()"
   ]
  },
  {
   "cell_type": "code",
   "execution_count": 63,
   "id": "f9c313fb-e66e-4b35-8d8c-c8553c2d0287",
   "metadata": {},
   "outputs": [
    {
     "name": "stderr",
     "output_type": "stream",
     "text": [
      "[Stage 1:>                                                          (0 + 1) / 1]\r"
     ]
    },
    {
     "name": "stdout",
     "output_type": "stream",
     "text": [
      "+--------------------+\n",
      "|                body|\n",
      "+--------------------+\n",
      "|    Good lord.  Yes.|\n",
      "|I don't know abou...|\n",
      "|Explain something...|\n",
      "|I would add that ...|\n",
      "|care to explain #...|\n",
      "|A society where t...|\n",
      "|Normally, when I ...|\n",
      "|           [deleted]|\n",
      "|No one wants to t...|\n",
      "|    I don't get it. |\n",
      "|I wonder whether ...|\n",
      "|           [deleted]|\n",
      "|I would suggest j...|\n",
      "|Remember, don't c...|\n",
      "|I made it [here](...|\n",
      "|I think you may h...|\n",
      "|Not clever but \"I...|\n",
      "|Aww, very nice! H...|\n",
      "|Wow! Thanks! I th...|\n",
      "|I read the title ...|\n",
      "+--------------------+\n",
      "only showing top 20 rows\n",
      "\n"
     ]
    },
    {
     "name": "stderr",
     "output_type": "stream",
     "text": [
      "                                                                                \r"
     ]
    }
   ],
   "source": [
    "df.select('body').show()"
   ]
  },
  {
   "cell_type": "code",
   "execution_count": 64,
   "id": "fc01afd3-ba76-4aab-b2c8-640c0a314153",
   "metadata": {},
   "outputs": [],
   "source": [
    "#getting controversial words\n",
    "cont_words = 'abuse, administration, afghanistan, aid, america,' + \\\n",
    "'american, army, attack, attacks, authorities, authority, ban, banks, benefits, bill, bills,' + \\\n",
    "'border, budget, campaign, candidate, candidates, catholic, china, chinese, church,'+ \\\n",
    "'concerns, congress, conservative, control, country, court, crime, criminal, crisis, cuts,'+\\\n",
    "'debate, debt, defense, deficit, democrats, disease, dollar, drug, drugs, economy, education,'+\\\n",
    "'egypt, election, elections, enforcement, fighting, finance, fiscal, force, funding,'+\\\n",
    "'gas, government, gun, health, immigration, inaccuracies, india, insurance, investigation,'+\\\n",
    "'investigators, iran, israel, job, jobs, judge, justice, killing, korea, labor, land,'+\\\n",
    "'law, lawmakers, laws, lawsuit, leadership, legislation, marriage, media, mexico, military,'+\\\n",
    "'money, murder, nation, nations, news, obama, offensive, officials, oil, parties,'+\\\n",
    "'peace, police, policies, policy, politics, poll, power, president, prices, primary, prison,'+\\\n",
    "'progress, race, reform, republican, republicans, restrictions, rule, rules, ruling, russia,'+\\\n",
    "'russian, school, security, senate, sex, shooting, society, spending, strategy, strike, support,'+\\\n",
    "'syria, syrian, tax, taxes, threat, trial, unemployment, union, usa, victim, victims,'+\\\n",
    "'violence, vote, voters, war, washington, weapons, world,'"
   ]
  },
  {
   "cell_type": "code",
   "execution_count": 65,
   "id": "3bac9de2-36f2-4f06-aa19-db6614ea36ec",
   "metadata": {},
   "outputs": [],
   "source": [
    "#getting semi-controversial words\n",
    "semi_cont_words = 'account, advantage, amount, attorney, chairman,'+\\\n",
    "'charge, charges, cities, class, comment, companies, cost, credit, delays, effect, expectations,'+\\\n",
    "'families, family, february, germany, goal, housing, information, investment,'+\\\n",
    "'markets, numbers, oklahoma, parents, patients, population, price, projects, raise, rate,'+\\\n",
    "'reason, sales, schools, sector, shot, source, sources, status, stock, store, worth,'"
   ]
  },
  {
   "cell_type": "code",
   "execution_count": 66,
   "id": "2bf135d9-9923-42e5-9934-26bf8af101e9",
   "metadata": {},
   "outputs": [],
   "source": [
    "#splitting the words into list\n",
    "import re\n",
    "controversial = re.findall('\\w+', cont_words.strip().lower())\n",
    "semi_controversial = re.findall('\\w+', semi_cont_words.strip().lower())"
   ]
  },
  {
   "cell_type": "code",
   "execution_count": 67,
   "id": "9a532912-300e-446b-82f7-17a9c2cbbdab",
   "metadata": {},
   "outputs": [],
   "source": [
    "#creating udf to tokenize text of a comment\n",
    "from pyspark.sql.functions import udf, col, size\n",
    "from pyspark.sql.types import StringType\n",
    "\n",
    "def tokenize(line):\n",
    "    return re.findall('\\w+', line.strip().lower())\n",
    "udf_tokenize =  udf(tokenize, StringType())"
   ]
  },
  {
   "cell_type": "code",
   "execution_count": 68,
   "id": "e8dfd39b-82f1-427e-ba39-a90b0ed1db7d",
   "metadata": {},
   "outputs": [],
   "source": [
    "#applying udf\n",
    "df = df.withColumn('body', udf_tokenize('body'))"
   ]
  },
  {
   "cell_type": "code",
   "execution_count": 69,
   "id": "0ea79488-9fc5-448d-a92d-f54eaf6d448f",
   "metadata": {},
   "outputs": [
    {
     "name": "stdout",
     "output_type": "stream",
     "text": [
      "+--------------------+\n",
      "|                body|\n",
      "+--------------------+\n",
      "|   [good, lord, yes]|\n",
      "|[i, don, t, know,...|\n",
      "|[explain, somethi...|\n",
      "|[i, would, add, t...|\n",
      "|[care, to, explai...|\n",
      "|[a, society, wher...|\n",
      "|[normally, when, ...|\n",
      "|           [deleted]|\n",
      "|[no, one, wants, ...|\n",
      "|[i, don, t, get, it]|\n",
      "|[i, wonder, wheth...|\n",
      "|           [deleted]|\n",
      "|[i, would, sugges...|\n",
      "|[remember, don, t...|\n",
      "|[i, made, it, her...|\n",
      "|[i, think, you, m...|\n",
      "|[not, clever, but...|\n",
      "|[aww, very, nice,...|\n",
      "|[wow, thanks, i, ...|\n",
      "|[i, read, the, ti...|\n",
      "+--------------------+\n",
      "only showing top 20 rows\n",
      "\n"
     ]
    },
    {
     "name": "stderr",
     "output_type": "stream",
     "text": [
      "                                                                                \r"
     ]
    }
   ],
   "source": [
    "df.select('body').show()"
   ]
  },
  {
   "cell_type": "code",
   "execution_count": 70,
   "id": "00d24e0a-3ee6-45cd-ba7f-bce35546826d",
   "metadata": {},
   "outputs": [
    {
     "name": "stderr",
     "output_type": "stream",
     "text": [
      "[nltk_data] Downloading package words to /home/ubuntu/nltk_data...\n",
      "[nltk_data]   Package words is already up-to-date!\n",
      "[nltk_data] Downloading package wordnet to /home/ubuntu/nltk_data...\n",
      "[nltk_data]   Package wordnet is already up-to-date!\n"
     ]
    }
   ],
   "source": [
    "#downloading english words, importing nltk\n",
    "import nltk\n",
    "from nltk.stem import WordNetLemmatizer\n",
    "wnl = WordNetLemmatizer()\n",
    "nltk.download('words')\n",
    "nltk.download('wordnet')\n",
    "\n",
    "words = set(nltk.corpus.words.words())\n",
    "words = [word.lower() for word in words]"
   ]
  },
  {
   "cell_type": "code",
   "execution_count": 71,
   "id": "df445930-22fd-4424-83f4-94a648b0be70",
   "metadata": {},
   "outputs": [],
   "source": [
    "#creating udf to keep only english words\n",
    "from pyspark.sql.types import ArrayType, IntegerType\n",
    "\n",
    "def only_english_words(line, words = words):\n",
    "    return [word for word in line if word in words]\n",
    "\n",
    "udf_english = udf(only_english_words, ArrayType(StringType()))\n"
   ]
  },
  {
   "cell_type": "code",
   "execution_count": 72,
   "id": "52a5fb29-e76e-49ce-87e7-eaef95e8598d",
   "metadata": {},
   "outputs": [],
   "source": [
    "df2 = df.withColumn('body', udf_english('body'))"
   ]
  },
  {
   "cell_type": "code",
   "execution_count": 73,
   "id": "df003286-1a85-40a5-96c5-8e8a39d52e83",
   "metadata": {},
   "outputs": [
    {
     "data": {
      "text/plain": [
       "36"
      ]
     },
     "execution_count": 73,
     "metadata": {},
     "output_type": "execute_result"
    }
   ],
   "source": [
    "df2.rdd.getNumPartitions()\n",
    "#.repartition(10) "
   ]
  },
  {
   "cell_type": "code",
   "execution_count": 74,
   "id": "60231b6d-6d15-4f2b-978f-433a3f003dc7",
   "metadata": {},
   "outputs": [
    {
     "name": "stderr",
     "output_type": "stream",
     "text": [
      "[Stage 3:>                                                          (0 + 1) / 1]\r"
     ]
    },
    {
     "name": "stdout",
     "output_type": "stream",
     "text": [
      "+--------------------+\n",
      "|                body|\n",
      "+--------------------+\n",
      "|   [good, lord, yes]|\n",
      "|[i, don, t, know,...|\n",
      "|[explain, somethi...|\n",
      "|[i, would, add, t...|\n",
      "|[care, to, explai...|\n",
      "|[a, society, wher...|\n",
      "|[normally, when, ...|\n",
      "|                  []|\n",
      "|[no, one, to, tal...|\n",
      "|[i, don, t, get, it]|\n",
      "|[i, wonder, wheth...|\n",
      "|                  []|\n",
      "|[i, would, sugges...|\n",
      "|[remember, don, t...|\n",
      "|[i, made, it, her...|\n",
      "|[i, think, you, m...|\n",
      "|[not, clever, but...|\n",
      "|[very, nice, how,...|\n",
      "|[wow, thanks, i, ...|\n",
      "|[i, read, the, ti...|\n",
      "+--------------------+\n",
      "only showing top 20 rows\n",
      "\n"
     ]
    },
    {
     "name": "stderr",
     "output_type": "stream",
     "text": [
      "                                                                                \r"
     ]
    }
   ],
   "source": [
    "df2.select('body').limit(100).show()"
   ]
  },
  {
   "cell_type": "code",
   "execution_count": 75,
   "id": "24a4cb17-e8c8-49a7-9ed3-c42adf2c6fb8",
   "metadata": {},
   "outputs": [
    {
     "name": "stdout",
     "output_type": "stream",
     "text": [
      "root\n",
      " |-- _corrupt_record: string (nullable = true)\n",
      " |-- archived: boolean (nullable = true)\n",
      " |-- author: string (nullable = true)\n",
      " |-- author_flair_css_class: string (nullable = true)\n",
      " |-- author_flair_text: string (nullable = true)\n",
      " |-- body: array (nullable = true)\n",
      " |    |-- element: string (containsNull = true)\n",
      " |-- controversiality: long (nullable = true)\n",
      " |-- created_utc: string (nullable = true)\n",
      " |-- distinguished: string (nullable = true)\n",
      " |-- downs: long (nullable = true)\n",
      " |-- edited: string (nullable = true)\n",
      " |-- gilded: long (nullable = true)\n",
      " |-- id: string (nullable = true)\n",
      " |-- link_id: string (nullable = true)\n",
      " |-- name: string (nullable = true)\n",
      " |-- parent_id: string (nullable = true)\n",
      " |-- retrieved_on: long (nullable = true)\n",
      " |-- score: long (nullable = true)\n",
      " |-- score_hidden: boolean (nullable = true)\n",
      " |-- subreddit: string (nullable = true)\n",
      " |-- subreddit_id: string (nullable = true)\n",
      " |-- ups: long (nullable = true)\n",
      "\n"
     ]
    }
   ],
   "source": [
    "df2.printSchema()"
   ]
  },
  {
   "cell_type": "code",
   "execution_count": 76,
   "id": "e62676ef-b472-4d0b-8839-fa1b429e82fb",
   "metadata": {},
   "outputs": [],
   "source": [
    "df2 = df2.filter(size('body') > 0)"
   ]
  },
  {
   "cell_type": "code",
   "execution_count": 80,
   "id": "0c86b7d2-8fe4-49c0-8eae-ad5594d1548b",
   "metadata": {},
   "outputs": [
    {
     "name": "stderr",
     "output_type": "stream",
     "text": [
      "[Stage 5:=======================================================> (35 + 1) / 36]\r"
     ]
    },
    {
     "name": "stdout",
     "output_type": "stream",
     "text": [
      "+--------------------+\n",
      "|                body|\n",
      "+--------------------+\n",
      "|[this, is, why, i...|\n",
      "|[i, t, mind, seei...|\n",
      "|         [the, drug]|\n",
      "|[came, to, the, t...|\n",
      "|[small, world, he...|\n",
      "|[the, new, are, a...|\n",
      "|[your, dedication...|\n",
      "|[pretty, sure, to...|\n",
      "|[i, bleed, from, ...|\n",
      "|[when, did, you, ...|\n",
      "|[this, me, even, ...|\n",
      "|[there, s, some, ...|\n",
      "|[i, m, an, irish,...|\n",
      "|[i, have, the, co...|\n",
      "|             [might]|\n",
      "|[yes, some, of, u...|\n",
      "|[i, chisel, on, t...|\n",
      "|[was, observing, ...|\n",
      "|[ron, paul, off, ...|\n",
      "|[but, but, but, i...|\n",
      "+--------------------+\n",
      "only showing top 20 rows\n",
      "\n"
     ]
    },
    {
     "name": "stderr",
     "output_type": "stream",
     "text": [
      "                                                                                \r"
     ]
    }
   ],
   "source": [
    "df2.select('body').limit(100).show()"
   ]
  },
  {
   "cell_type": "code",
   "execution_count": null,
   "id": "936cb882-12f4-4c93-94bc-6d1367fc48dd",
   "metadata": {},
   "outputs": [],
   "source": [
    "def controversially(line, controversial = controversial, semi_controversial = semi_controversial):\n",
    "    if any(word in line for word in controversial):\n",
    "        return 2\n",
    "    elif any(word in line for word in semi_controversial):\n",
    "        return 1\n",
    "    else:\n",
    "        return 0\n",
    "    \n",
    "udf_controversy = udf(controversially, StringType())"
   ]
  },
  {
   "cell_type": "code",
   "execution_count": null,
   "id": "aba85ae5-b7db-499f-b76a-97ec6e374bab",
   "metadata": {},
   "outputs": [],
   "source": [
    "df3 = df2.withColumn('controversial_words', udf_controversy('body')).limit(100)\n",
    "#df3.rdd.repartition(10)"
   ]
  },
  {
   "cell_type": "code",
   "execution_count": null,
   "id": "8157df6d-7192-4c4d-8a50-f17366ddb366",
   "metadata": {},
   "outputs": [],
   "source": [
    "df3.take(100)"
   ]
  },
  {
   "cell_type": "code",
   "execution_count": null,
   "id": "ee0e2a9f-f753-4f83-8052-d2d2f2254c8a",
   "metadata": {},
   "outputs": [],
   "source": [
    "ss.stop()"
   ]
  },
  {
   "cell_type": "code",
   "execution_count": null,
   "id": "5af428f9-4997-477a-ba8c-5857cfae07e9",
   "metadata": {},
   "outputs": [],
   "source": [
    "#take(10)"
   ]
  },
  {
   "cell_type": "code",
   "execution_count": null,
   "id": "c2b4432e-a919-47d4-af51-db230d78d0eb",
   "metadata": {},
   "outputs": [],
   "source": []
  },
  {
   "cell_type": "code",
   "execution_count": null,
   "id": "bfd3d9c6-666b-4703-8825-770dfcc8b2a5",
   "metadata": {},
   "outputs": [],
   "source": []
  },
  {
   "cell_type": "code",
   "execution_count": null,
   "id": "30fd7227-a491-436b-8822-1d5301c40d07",
   "metadata": {},
   "outputs": [],
   "source": []
  },
  {
   "cell_type": "code",
   "execution_count": null,
   "id": "4676ee31-b19c-45c0-a139-fa8aa39c6672",
   "metadata": {},
   "outputs": [],
   "source": []
  },
  {
   "cell_type": "code",
   "execution_count": null,
   "id": "23d66c0c-568c-45b6-ba81-262a27e574d6",
   "metadata": {},
   "outputs": [],
   "source": []
  },
  {
   "cell_type": "code",
   "execution_count": null,
   "id": "bd0dbbe3-44ab-4348-81f9-cea9a0a87174",
   "metadata": {},
   "outputs": [],
   "source": []
  },
  {
   "cell_type": "code",
   "execution_count": null,
   "id": "e51166ec-ddfa-48e2-8859-30e3c46f59fe",
   "metadata": {},
   "outputs": [],
   "source": []
  }
 ],
 "metadata": {
  "kernelspec": {
   "display_name": "Python 3 (ipykernel)",
   "language": "python",
   "name": "python3"
  },
  "language_info": {
   "codemirror_mode": {
    "name": "ipython",
    "version": 3
   },
   "file_extension": ".py",
   "mimetype": "text/x-python",
   "name": "python",
   "nbconvert_exporter": "python",
   "pygments_lexer": "ipython3",
   "version": "3.8.10"
  }
 },
 "nbformat": 4,
 "nbformat_minor": 5
}
